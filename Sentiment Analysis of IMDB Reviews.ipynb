{
 "cells": [
  {
   "cell_type": "markdown",
   "metadata": {},
   "source": [
    "# Problem statement:\n",
    "To train a neural network to classify movie reviews from the IMDB dataset as positive or negative.\n",
    "To achieve this, we build a machine learning model that can read a movie review and predict whether the review is positive (the reviewer liked the movie) or negative (the reviewer didn't like the movie). We'll be using the IMDB dataset, which contains a large collection of movie reviews with corresponding sentiment labels (positive or negative)."
   ]
  },
  {
   "cell_type": "code",
   "execution_count": 117,
   "metadata": {},
   "outputs": [],
   "source": [
    "# Import necessary libraries\n",
    "import pandas as pd\n",
    "import matplotlib.pyplot as plt\n",
    "import seaborn as sns\n",
    "import nltk\n",
    "from nltk.tokenize import word_tokenize\n",
    "from nltk.corpus import stopwords\n",
    "from sklearn.feature_extraction.text import TfidfVectorizer\n",
    "from sklearn.model_selection import train_test_split\n",
    "from tensorflow.keras.models import Sequential\n",
    "from tensorflow.keras.layers import Dense\n",
    "from tensorflow.keras.optimizers import Adam\n",
    "from sklearn.preprocessing import LabelEncoder"
   ]
  },
  {
   "cell_type": "markdown",
   "metadata": {},
   "source": [
    "### Data Loading and Exploration:"
   ]
  },
  {
   "cell_type": "code",
   "execution_count": 118,
   "metadata": {},
   "outputs": [],
   "source": [
    "# Load the data\n",
    "IMDB_Reviews = pd.read_csv(\"c:\\\\Users\\\\HP\\\\Documents\\\\STUDY\\\\DATA SCIENCE AND ANALYSIS - GOMYCODE\\\\Data Sets\\\\IMDB Dataset.csv\")"
   ]
  },
  {
   "cell_type": "code",
   "execution_count": 119,
   "metadata": {},
   "outputs": [
    {
     "data": {
      "text/html": [
       "<div>\n",
       "<style scoped>\n",
       "    .dataframe tbody tr th:only-of-type {\n",
       "        vertical-align: middle;\n",
       "    }\n",
       "\n",
       "    .dataframe tbody tr th {\n",
       "        vertical-align: top;\n",
       "    }\n",
       "\n",
       "    .dataframe thead th {\n",
       "        text-align: right;\n",
       "    }\n",
       "</style>\n",
       "<table border=\"1\" class=\"dataframe\">\n",
       "  <thead>\n",
       "    <tr style=\"text-align: right;\">\n",
       "      <th></th>\n",
       "      <th>review</th>\n",
       "      <th>sentiment</th>\n",
       "    </tr>\n",
       "  </thead>\n",
       "  <tbody>\n",
       "    <tr>\n",
       "      <th>49990</th>\n",
       "      <td>Lame, lame, lame!!! A 90-minute cringe-fest th...</td>\n",
       "      <td>negative</td>\n",
       "    </tr>\n",
       "    <tr>\n",
       "      <th>49991</th>\n",
       "      <td>Les Visiteurs, the first movie about the medie...</td>\n",
       "      <td>negative</td>\n",
       "    </tr>\n",
       "    <tr>\n",
       "      <th>49992</th>\n",
       "      <td>John Garfield plays a Marine who is blinded by...</td>\n",
       "      <td>positive</td>\n",
       "    </tr>\n",
       "    <tr>\n",
       "      <th>49993</th>\n",
       "      <td>Robert Colomb has two full-time jobs. He's kno...</td>\n",
       "      <td>negative</td>\n",
       "    </tr>\n",
       "    <tr>\n",
       "      <th>49994</th>\n",
       "      <td>This is your typical junk comedy.&lt;br /&gt;&lt;br /&gt;T...</td>\n",
       "      <td>negative</td>\n",
       "    </tr>\n",
       "    <tr>\n",
       "      <th>49995</th>\n",
       "      <td>I thought this movie did a down right good job...</td>\n",
       "      <td>positive</td>\n",
       "    </tr>\n",
       "    <tr>\n",
       "      <th>49996</th>\n",
       "      <td>Bad plot, bad dialogue, bad acting, idiotic di...</td>\n",
       "      <td>negative</td>\n",
       "    </tr>\n",
       "    <tr>\n",
       "      <th>49997</th>\n",
       "      <td>I am a Catholic taught in parochial elementary...</td>\n",
       "      <td>negative</td>\n",
       "    </tr>\n",
       "    <tr>\n",
       "      <th>49998</th>\n",
       "      <td>I'm going to have to disagree with the previou...</td>\n",
       "      <td>negative</td>\n",
       "    </tr>\n",
       "    <tr>\n",
       "      <th>49999</th>\n",
       "      <td>No one expects the Star Trek movies to be high...</td>\n",
       "      <td>negative</td>\n",
       "    </tr>\n",
       "  </tbody>\n",
       "</table>\n",
       "</div>"
      ],
      "text/plain": [
       "                                                  review sentiment\n",
       "49990  Lame, lame, lame!!! A 90-minute cringe-fest th...  negative\n",
       "49991  Les Visiteurs, the first movie about the medie...  negative\n",
       "49992  John Garfield plays a Marine who is blinded by...  positive\n",
       "49993  Robert Colomb has two full-time jobs. He's kno...  negative\n",
       "49994  This is your typical junk comedy.<br /><br />T...  negative\n",
       "49995  I thought this movie did a down right good job...  positive\n",
       "49996  Bad plot, bad dialogue, bad acting, idiotic di...  negative\n",
       "49997  I am a Catholic taught in parochial elementary...  negative\n",
       "49998  I'm going to have to disagree with the previou...  negative\n",
       "49999  No one expects the Star Trek movies to be high...  negative"
      ]
     },
     "execution_count": 119,
     "metadata": {},
     "output_type": "execute_result"
    }
   ],
   "source": [
    "IMDB_Reviews.tail(10)"
   ]
  },
  {
   "cell_type": "code",
   "execution_count": 120,
   "metadata": {},
   "outputs": [
    {
     "name": "stdout",
     "output_type": "stream",
     "text": [
      "<class 'pandas.core.frame.DataFrame'>\n",
      "RangeIndex: 50000 entries, 0 to 49999\n",
      "Data columns (total 2 columns):\n",
      " #   Column     Non-Null Count  Dtype \n",
      "---  ------     --------------  ----- \n",
      " 0   review     50000 non-null  object\n",
      " 1   sentiment  50000 non-null  object\n",
      "dtypes: object(2)\n",
      "memory usage: 781.4+ KB\n"
     ]
    }
   ],
   "source": [
    "IMDB_Reviews.info()"
   ]
  },
  {
   "cell_type": "code",
   "execution_count": 121,
   "metadata": {},
   "outputs": [
    {
     "data": {
      "text/html": [
       "<div>\n",
       "<style scoped>\n",
       "    .dataframe tbody tr th:only-of-type {\n",
       "        vertical-align: middle;\n",
       "    }\n",
       "\n",
       "    .dataframe tbody tr th {\n",
       "        vertical-align: top;\n",
       "    }\n",
       "\n",
       "    .dataframe thead th {\n",
       "        text-align: right;\n",
       "    }\n",
       "</style>\n",
       "<table border=\"1\" class=\"dataframe\">\n",
       "  <thead>\n",
       "    <tr style=\"text-align: right;\">\n",
       "      <th></th>\n",
       "      <th>review</th>\n",
       "      <th>sentiment</th>\n",
       "    </tr>\n",
       "  </thead>\n",
       "  <tbody>\n",
       "    <tr>\n",
       "      <th>count</th>\n",
       "      <td>50000</td>\n",
       "      <td>50000</td>\n",
       "    </tr>\n",
       "    <tr>\n",
       "      <th>unique</th>\n",
       "      <td>49582</td>\n",
       "      <td>2</td>\n",
       "    </tr>\n",
       "    <tr>\n",
       "      <th>top</th>\n",
       "      <td>Loved today's show!!! It was a variety and not...</td>\n",
       "      <td>positive</td>\n",
       "    </tr>\n",
       "    <tr>\n",
       "      <th>freq</th>\n",
       "      <td>5</td>\n",
       "      <td>25000</td>\n",
       "    </tr>\n",
       "  </tbody>\n",
       "</table>\n",
       "</div>"
      ],
      "text/plain": [
       "                                                   review sentiment\n",
       "count                                               50000     50000\n",
       "unique                                              49582         2\n",
       "top     Loved today's show!!! It was a variety and not...  positive\n",
       "freq                                                    5     25000"
      ]
     },
     "execution_count": 121,
     "metadata": {},
     "output_type": "execute_result"
    }
   ],
   "source": [
    "IMDB_Reviews.describe()"
   ]
  },
  {
   "cell_type": "markdown",
   "metadata": {},
   "source": [
    "### Data Preprocessing:"
   ]
  },
  {
   "cell_type": "code",
   "execution_count": 122,
   "metadata": {},
   "outputs": [],
   "source": [
    "# Convert all reviews to lower case\n",
    "IMDB_Reviews['review'] = IMDB_Reviews['review'].apply(lambda x: x.lower())"
   ]
  },
  {
   "cell_type": "code",
   "execution_count": 123,
   "metadata": {},
   "outputs": [],
   "source": [
    "# Remove HTML tags and URLs from reviews\n",
    "IMDB_Reviews['review'] = IMDB_Reviews['review'].apply(lambda x: ' '.join(nltk.regexp_tokenize(x, r'<.*?>|http\\S+')))"
   ]
  },
  {
   "cell_type": "code",
   "execution_count": 124,
   "metadata": {},
   "outputs": [
    {
     "name": "stderr",
     "output_type": "stream",
     "text": [
      "[nltk_data] Downloading package punkt to\n",
      "[nltk_data]     C:\\Users\\HP\\AppData\\Roaming\\nltk_data...\n",
      "[nltk_data]   Package punkt is already up-to-date!\n",
      "[nltk_data] Downloading package stopwords to\n",
      "[nltk_data]     C:\\Users\\HP\\AppData\\Roaming\\nltk_data...\n",
      "[nltk_data]   Package stopwords is already up-to-date!\n"
     ]
    }
   ],
   "source": [
    "# Tokenize the text and remove stop words\n",
    "nltk.download('punkt')\n",
    "nltk.download('stopwords')\n",
    "stop_words = set(stopwords.words('english'))\n",
    "IMDB_Reviews['review'] = IMDB_Reviews['review'].apply(lambda x: [word for word in word_tokenize(x) if word not in stop_words])\n",
    "IMDB_Reviews['review'] = IMDB_Reviews['review'].apply(lambda x: ' '.join(x))"
   ]
  },
  {
   "cell_type": "code",
   "execution_count": 125,
   "metadata": {},
   "outputs": [],
   "source": [
    "# Use TF-IDF Vectorization to convert text data into a format suitable for input into the neural network\n",
    "\n",
    "vectorizer = TfidfVectorizer()\n",
    "X = vectorizer.fit_transform(IMDB_Reviews['review'])\n",
    "\n",
    "# Convert sparse matrix to dense array\n",
    "X = X.toarray()\n",
    "y = IMDB_Reviews['sentiment']"
   ]
  },
  {
   "cell_type": "code",
   "execution_count": 126,
   "metadata": {},
   "outputs": [],
   "source": [
    "# Split the data into training and testing sets\n",
    "X_train, X_test, y_train, y_test = train_test_split(X, y, test_size=0.2, random_state=42)\n"
   ]
  },
  {
   "cell_type": "code",
   "execution_count": 127,
   "metadata": {},
   "outputs": [],
   "source": [
    "# Label encoding\n",
    "le = LabelEncoder()\n",
    "y_train = le.fit_transform(y_train)\n",
    "y_test = le.transform(y_test)\n",
    "\n",
    "# Ensure y_train and y_test are 1D arrays\n",
    "y_train = y_train.flatten()\n",
    "y_test = y_test.flatten()"
   ]
  },
  {
   "cell_type": "markdown",
   "metadata": {},
   "source": [
    "### Model Building:"
   ]
  },
  {
   "cell_type": "code",
   "execution_count": 128,
   "metadata": {},
   "outputs": [
    {
     "name": "stderr",
     "output_type": "stream",
     "text": [
      "c:\\Users\\HP\\Documents\\STUDY\\DATA SCIENCE AND ANALYSIS - GOMYCODE\\GMC_PYTHON\\My_Virtual_Env\\Lib\\site-packages\\keras\\src\\layers\\core\\dense.py:87: UserWarning: Do not pass an `input_shape`/`input_dim` argument to a layer. When using Sequential models, prefer using an `Input(shape)` object as the first layer in the model instead.\n",
      "  super().__init__(activity_regularizer=activity_regularizer, **kwargs)\n"
     ]
    }
   ],
   "source": [
    "# Construct a Sequential model with Dense layers\n",
    "model = Sequential()\n",
    "model.add(Dense(64, activation='relu', input_shape=(X_train.shape[1],)))\n",
    "model.add(Dense(32, activation='relu'))\n",
    "model.add(Dense(1, activation='sigmoid'))"
   ]
  },
  {
   "cell_type": "code",
   "execution_count": 129,
   "metadata": {},
   "outputs": [],
   "source": [
    "# Compile the model\n",
    "model.compile(loss='binary_crossentropy', optimizer=Adam(learning_rate=0.001), metrics=['accuracy'])"
   ]
  },
  {
   "cell_type": "markdown",
   "metadata": {},
   "source": [
    "### Model Training:"
   ]
  },
  {
   "cell_type": "code",
   "execution_count": 130,
   "metadata": {},
   "outputs": [
    {
     "name": "stdout",
     "output_type": "stream",
     "text": [
      "Epoch 1/10\n",
      "\u001b[1m1250/1250\u001b[0m \u001b[32m━━━━━━━━━━━━━━━━━━━━\u001b[0m\u001b[37m\u001b[0m \u001b[1m5s\u001b[0m 3ms/step - accuracy: 0.5095 - loss: 0.6932 - val_accuracy: 0.5213 - val_loss: 0.6924\n",
      "Epoch 2/10\n",
      "\u001b[1m1250/1250\u001b[0m \u001b[32m━━━━━━━━━━━━━━━━━━━━\u001b[0m\u001b[37m\u001b[0m \u001b[1m7s\u001b[0m 4ms/step - accuracy: 0.5143 - loss: 0.6929 - val_accuracy: 0.5211 - val_loss: 0.6925\n",
      "Epoch 3/10\n",
      "\u001b[1m1250/1250\u001b[0m \u001b[32m━━━━━━━━━━━━━━━━━━━━\u001b[0m\u001b[37m\u001b[0m \u001b[1m5s\u001b[0m 4ms/step - accuracy: 0.5101 - loss: 0.6926 - val_accuracy: 0.5042 - val_loss: 0.6925\n",
      "Epoch 4/10\n",
      "\u001b[1m1250/1250\u001b[0m \u001b[32m━━━━━━━━━━━━━━━━━━━━\u001b[0m\u001b[37m\u001b[0m \u001b[1m6s\u001b[0m 4ms/step - accuracy: 0.5092 - loss: 0.6923 - val_accuracy: 0.5043 - val_loss: 0.6928\n",
      "Epoch 5/10\n",
      "\u001b[1m1250/1250\u001b[0m \u001b[32m━━━━━━━━━━━━━━━━━━━━\u001b[0m\u001b[37m\u001b[0m \u001b[1m3s\u001b[0m 2ms/step - accuracy: 0.5062 - loss: 0.6921 - val_accuracy: 0.5213 - val_loss: 0.6922\n",
      "Epoch 6/10\n",
      "\u001b[1m1250/1250\u001b[0m \u001b[32m━━━━━━━━━━━━━━━━━━━━\u001b[0m\u001b[37m\u001b[0m \u001b[1m3s\u001b[0m 3ms/step - accuracy: 0.5065 - loss: 0.6916 - val_accuracy: 0.5213 - val_loss: 0.6922\n",
      "Epoch 7/10\n",
      "\u001b[1m1250/1250\u001b[0m \u001b[32m━━━━━━━━━━━━━━━━━━━━\u001b[0m\u001b[37m\u001b[0m \u001b[1m3s\u001b[0m 3ms/step - accuracy: 0.5082 - loss: 0.6915 - val_accuracy: 0.5213 - val_loss: 0.6920\n",
      "Epoch 8/10\n",
      "\u001b[1m1250/1250\u001b[0m \u001b[32m━━━━━━━━━━━━━━━━━━━━\u001b[0m\u001b[37m\u001b[0m \u001b[1m3s\u001b[0m 3ms/step - accuracy: 0.5081 - loss: 0.6915 - val_accuracy: 0.5212 - val_loss: 0.6922\n",
      "Epoch 9/10\n",
      "\u001b[1m1250/1250\u001b[0m \u001b[32m━━━━━━━━━━━━━━━━━━━━\u001b[0m\u001b[37m\u001b[0m \u001b[1m4s\u001b[0m 3ms/step - accuracy: 0.5119 - loss: 0.6917 - val_accuracy: 0.5214 - val_loss: 0.6921\n",
      "Epoch 10/10\n",
      "\u001b[1m1250/1250\u001b[0m \u001b[32m━━━━━━━━━━━━━━━━━━━━\u001b[0m\u001b[37m\u001b[0m \u001b[1m5s\u001b[0m 4ms/step - accuracy: 0.5189 - loss: 0.6909 - val_accuracy: 0.5213 - val_loss: 0.6925\n"
     ]
    }
   ],
   "source": [
    "# Train the model using the training set\n",
    "history = model.fit(X_train, y_train, epochs=10, batch_size=32, validation_data=(X_test, y_test))"
   ]
  },
  {
   "cell_type": "markdown",
   "metadata": {},
   "source": [
    "### Evaluation:"
   ]
  },
  {
   "cell_type": "code",
   "execution_count": 131,
   "metadata": {},
   "outputs": [
    {
     "name": "stdout",
     "output_type": "stream",
     "text": [
      "\u001b[1m313/313\u001b[0m \u001b[32m━━━━━━━━━━━━━━━━━━━━\u001b[0m\u001b[37m\u001b[0m \u001b[1m1s\u001b[0m 2ms/step - accuracy: 0.5201 - loss: 0.6923\n",
      "Test loss: 0.692\n",
      "Test accuracy: 0.521\n"
     ]
    }
   ],
   "source": [
    "# Evaluate the model on a separate test set\n",
    "loss, accuracy = model.evaluate(X_test, y_test)\n",
    "print(f'Test loss: {loss:.3f}')\n",
    "print(f'Test accuracy: {accuracy:.3f}')"
   ]
  },
  {
   "cell_type": "markdown",
   "metadata": {},
   "source": [
    "### Visualization:"
   ]
  },
  {
   "cell_type": "code",
   "execution_count": 132,
   "metadata": {},
   "outputs": [
    {
     "data": {
      "image/png": "[encoded data removed]",
      "text/plain": [
       "<Figure size 640x480 with 1 Axes>"
      ]
     },
     "metadata": {},
     "output_type": "display_data"
    }
   ],
   "source": [
    "# Plot training and validation loss over epochs\n",
    "plt.plot(history.history['loss'], label='Training Loss')\n",
    "plt.plot(history.history['val_loss'], label='Validation Loss')\n",
    "plt.legend()\n",
    "plt.show()"
   ]
  },
  {
   "cell_type": "code",
   "execution_count": 133,
   "metadata": {},
   "outputs": [
    {
     "data": {
      "image/png": "[encoded data removed]",
      "text/plain": [
       "<Figure size 640x480 with 1 Axes>"
      ]
     },
     "metadata": {},
     "output_type": "display_data"
    }
   ],
   "source": [
    "# Plot training and validation accuracy over epochs\n",
    "plt.plot(history.history['accuracy'], label='Training Accuracy')\n",
    "plt.plot(history.history['val_accuracy'], label='Validation Accuracy')\n",
    "plt.legend()\n",
    "plt.show()"
   ]
  },
  {
   "cell_type": "markdown",
   "metadata": {},
   "source": [
    "# Sentiment Analysis Report:\n",
    "This project aimed to develop a sentiment analysis model using a dataset of IMDB reviews. The goal was to classify reviews as either positive or negative.\n",
    "\n",
    "## Methodology\n",
    "1. Data Preprocessing: The dataset was preprocessed by converting all reviews to lowercase, removing HTML tags and URLs, tokenizing the text, and removing stop words.\n",
    "2. Feature Extraction: TF-IDF vectorization was used to convert the preprocessed text data into a format suitable for input into the neural network.\n",
    "3. Model Development: A binary classification model was developed using a sequential neural network with two hidden layers.\n",
    "4. Model Training: The model was trained using the training set, and its performance was evaluated using the test set.\n",
    "5. Model Visualisation\n",
    "\n",
    "## Insights Gained\n",
    "- **Text Data Preprocessing**: The project reinforced the importance of preprocessing text data effectively. Lowercasing text, removing HTML tags and URLs, and tokenizing while removing stopwords helped clean the data and make it more suitable for training.\n",
    "\n",
    "- **TF-IDF Vectorization**: TF-IDF vectorization played a significant role in converting text into a numerical format that could be fed into the neural network. It helped the model focus on the important words in the reviews, capturing meaningful patterns for classification.\n",
    "\n",
    "- **Binary Classification**: The project emphasized the binary classification task of sentiment analysis, where the model learns to predict whether a review is positive or negative. Using **sigmoid activation** and **binary cross-entropy loss** ensured that the model could handle this binary problem.\n",
    "\n",
    "- **Model Performance**: The test accuracy of 52.1% suggests that the model is performing only slightly better than random guessing. The test loss of 0.692 is relatively high, indicating that the model is not capturing significant patterns in the data. This performance suggests that further model improvements are necessary.\n",
    "\n",
    "## Challenges Faced and How They Were Overcome\n",
    "\n",
    "1. **Sparse Matrix Compatibility**: \n",
    "   - **Challenge**: The **TF-IDF vectorizer** produces a sparse matrix, which is not directly compatible with Keras models. \n",
    "   - **Solution**: The sparse matrix was converted into a dense numpy array using `.toarray()`, making it compatible with the neural network.\n",
    "\n",
    "2. **Sentiment Label Encoding**: \n",
    "   - **Challenge**: The **sentiment** column originally contained string values ('positive' and 'negative'), which needed to be encoded as numerical labels for training. \n",
    "   - **Solution**: String labels were mapped to numerical values (0 for negative, 1 for positive) using the `.map()` function, preparing the labels for model training.\n",
    "\n",
    "3. **Underfitting**:\n",
    "   - **Challenge**: The model achieved an accuracy close to random guessing (52.1%), indicating it is underfitting the data. \n",
    "   - **Solution**: This suggests that the model is too simple for the complexity of the task. Improvements in model architecture (e.g., using LSTM or GRU layers) or incorporating more sophisticated preprocessing techniques may be needed.\n",
    "\n",
    "\n",
    "## Potential Improvements\n",
    "1. **Advanced Model Architectures**:\n",
    "   - The current model is relatively simple with two dense layers, and it may not be well-suited for capturing the sequential nature of text. Switching to **LSTM** or **GRU** layers might improve performance, as these models are designed for sequential data like text.\n",
    "   \n",
    "2. **Pre-trained Word Embeddings**:\n",
    "   - Using **Word2Vec** or **GloVe** pre-trained word embeddings instead of TF-IDF might improve the quality of word representations and result in better classification performance. Fine-tuning pre-trained models like **BERT** could further enhance the model’s accuracy.\n",
    "\n",
    "3. **Regularization**:\n",
    "   - **Dropout layers** or **L2 regularization** can be added to reduce overfitting and help the model generalize better to unseen data. Regularization techniques are crucial for improving performance on the test set.\n",
    "\n",
    "4. **Hyperparameter Tuning**:\n",
    "   - The learning rate, batch size, and number of epochs should be fine-tuned to optimize the model’s performance. Techniques like **grid search** or **random search** can help identify the best combination of hyperparameters.\n",
    "\n",
    "5. **Cross-validation**:\n",
    "   - Using **k-fold cross-validation** would provide a better understanding of the model's performance on different subsets of the data and reduce the variance in the results.\n",
    "\n",
    "## Conclusion\n",
    "\n",
    "The model’s performance, with a **test accuracy of 52.1%** and a **test loss of 0.692**, indicates that it is underperforming and not learning effectively from the data. This suggests that the model is too simple for the complexity of the task, and it highlights the need for architectural improvements, better preprocessing, or more advanced techniques such as using LSTM layers or pre-trained word embeddings. By addressing these areas, we can expect to improve the model’s accuracy and make it more effective in classifying movie reviews as positive or negative.\n",
    "\n",
    "Next steps include refining the model, experimenting with different architectures and hyperparameters, and exploring techniques like class balancing and cross-validation to boost performance."
   ]
  }
 ],
 "metadata": {
  "kernelspec": {
   "display_name": "My_Virtual_Env",
   "language": "python",
   "name": "python3"
  },
  "language_info": {
   "codemirror_mode": {
    "name": "ipython",
    "version": 3
   },
   "file_extension": ".py",
   "mimetype": "text/x-python",
   "name": "python",
   "nbconvert_exporter": "python",
   "pygments_lexer": "ipython3",
   "version": "3.12.5"
  }
 },
 "nbformat": 4,
 "nbformat_minor": 2
}
